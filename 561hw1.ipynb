{
 "cells": [
  {
   "cell_type": "markdown",
   "id": "1a372980",
   "metadata": {},
   "source": [
    "IDS 561 HW 1."
   ]
  },
  {
   "cell_type": "code",
   "execution_count": 211,
   "id": "13f688c9",
   "metadata": {},
   "outputs": [],
   "source": [
    "import pandas as pnd\n",
    "import re\n",
    "import string\n",
    "import array\n",
    "import math\n",
    "import numpy as nmp\n"
   ]
  },
  {
   "cell_type": "code",
   "execution_count": 212,
   "id": "6d8160f8",
   "metadata": {},
   "outputs": [],
   "source": [
    "note = open('temperatures.txt')\n",
    "note1 = note.read()"
   ]
  },
  {
   "cell_type": "code",
   "execution_count": 213,
   "id": "7273a4f3",
   "metadata": {},
   "outputs": [],
   "source": [
    "# Data cleaning\n",
    "def data_clean(ip0):\n",
    "    ip1 = ip0.translate(str.maketrans('','',string.punctuation)) \n",
    "    return ip1"
   ]
  },
  {
   "cell_type": "code",
   "execution_count": 214,
   "id": "ccafaff9",
   "metadata": {},
   "outputs": [],
   "source": [
    "# Data splitting\n",
    "def data_split(ip1):\n",
    "    ip1_sub1=ip1[0:10214]\n",
    "    ip1_sub2=ip1[10214:]\n",
    "    return ip1_sub1,ip1_sub2"
   ]
  },
  {
   "cell_type": "markdown",
   "id": "753ee297",
   "metadata": {},
   "source": [
    "### Mapping:"
   ]
  },
  {
   "cell_type": "code",
   "execution_count": 215,
   "id": "3f66a67c",
   "metadata": {},
   "outputs": [],
   "source": [
    "def map_one(ip1_sub1):\n",
    "    L1=ip1_sub1.split()\n",
    "    i=0\n",
    "    j=-1\n",
    "    a = nmp.zeros((1000, 2))\n",
    "    for i in range(0,2000):\n",
    "        if(i%2==0):\n",
    "            j=j+1\n",
    "            a[j][0]=L1[i]\n",
    "        else:\n",
    "            a[j][1]=L1[i]\n",
    "        \n",
    "\n",
    "    for i in range(0,1000):\n",
    "        x=(str(a[i][0])+\" \"+ str(a[i][1]))\n",
    "    return a\n",
    "\n"
   ]
  },
  {
   "cell_type": "code",
   "execution_count": 216,
   "id": "240ee4d2",
   "metadata": {},
   "outputs": [],
   "source": [
    "def map_two(ip1_sub2):\n",
    "    L2=ip1_sub2.split()\n",
    "    i=0\n",
    "    j=-1\n",
    "    b = nmp.zeros((1000, 2))\n",
    "    for i in range(0,2000):\n",
    "        if(i%2==0):\n",
    "            j=j+1\n",
    "            b[j][0]=L2[i]\n",
    "        else:\n",
    "            b[j][1]=L2[i]\n",
    "        \n",
    "\n",
    "    for i in range(0,1000):\n",
    "        y=(str(b[i][0])+\" \"+ str(b[i][1]))\n",
    "    return b\n",
    "    "
   ]
  },
  {
   "cell_type": "code",
   "execution_count": 217,
   "id": "de5153b9",
   "metadata": {},
   "outputs": [],
   "source": [
    "def data_sort(a,b):\n",
    "    c=nmp.concatenate((a,b),axis=0)\n",
    "    data_f=pnd.DataFrame(c)\n",
    "    data_f.columns=['Year','Temp']\n",
    "    p=data_f.sort_values(by='Year')\n",
    "    p['Year']=p['Year'].apply(nmp.int64)\n",
    "    return p\n",
    "    "
   ]
  },
  {
   "cell_type": "code",
   "execution_count": 218,
   "id": "1d8cc6a8",
   "metadata": {},
   "outputs": [],
   "source": [
    "def data_partion(par):\n",
    "    par['Year']=par['Year']-par['Year']%100\n",
    "    par['Year']=par['Year']/100\n",
    "    par['Year']=par['Year'].apply(nmp.int64)\n",
    "    par1=par[0:1099]\n",
    "    par2=par[1099:]\n",
    "    return par1,par2"
   ]
  },
  {
   "cell_type": "markdown",
   "id": "2e626b5d",
   "metadata": {},
   "source": [
    "### Reducing:"
   ]
  },
  {
   "cell_type": "code",
   "execution_count": 219,
   "id": "c2a560a2",
   "metadata": {},
   "outputs": [],
   "source": [
    "def red_one(rd1):\n",
    "    op1=rd1.sort_values('Temp', ascending=False).drop_duplicates(['Year'])\n",
    "    op_fin1=op1.sort_values(by='Year')\n",
    "    return op_fin1"
   ]
  },
  {
   "cell_type": "code",
   "execution_count": 220,
   "id": "813c990a",
   "metadata": {},
   "outputs": [],
   "source": [
    "def red_two(rd2):\n",
    "    op2=rd2.sort_values('Temp', ascending=False).drop_duplicates(['Year'])\n",
    "    op_fin2=op2.sort_values(by='Year')\n",
    "    return op_fin2"
   ]
  },
  {
   "cell_type": "markdown",
   "id": "413e23bc",
   "metadata": {},
   "source": [
    "### Main function"
   ]
  },
  {
   "cell_type": "code",
   "execution_count": 221,
   "id": "faea38dc",
   "metadata": {},
   "outputs": [],
   "source": [
    "def main():\n",
    "    note = open('temperatures.txt')\n",
    "    note1 = note.read()\n",
    "    note2=data_clean(note1)\n",
    "    note3,note4=data_split(note2)\n",
    "    note5=map_one(note3)\n",
    "    note6=map_two(note4)\n",
    "    note7=data_sort(note5,note6)\n",
    "    note8,note9=data_partion(note7)\n",
    "    op_fin1=red_one(note8)\n",
    "    op_fin2=red_two(note9)\n",
    "    op_final=pnd.concat([op_fin1,op_fin2],axis=0)\n",
    "    op_final.to_csv('561hw1answer.csv',index=False)\n",
    "if __name__==\"__main__\":\n",
    "    main()\n",
    "    "
   ]
  },
  {
   "cell_type": "code",
   "execution_count": null,
   "id": "2468b927",
   "metadata": {},
   "outputs": [],
   "source": []
  },
  {
   "cell_type": "code",
   "execution_count": null,
   "id": "0d2bbf86",
   "metadata": {},
   "outputs": [],
   "source": []
  },
  {
   "cell_type": "code",
   "execution_count": null,
   "id": "f48f2a23",
   "metadata": {},
   "outputs": [],
   "source": []
  }
 ],
 "metadata": {
  "kernelspec": {
   "display_name": "Python 3",
   "language": "python",
   "name": "python3"
  },
  "language_info": {
   "codemirror_mode": {
    "name": "ipython",
    "version": 3
   },
   "file_extension": ".py",
   "mimetype": "text/x-python",
   "name": "python",
   "nbconvert_exporter": "python",
   "pygments_lexer": "ipython3",
   "version": "3.8.8"
  }
 },
 "nbformat": 4,
 "nbformat_minor": 5
}
